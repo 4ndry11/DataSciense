{
 "cells": [
  {
   "cell_type": "code",
   "execution_count": 1,
   "id": "ef9bf131-73a5-47a4-a281-6da5b2f7961f",
   "metadata": {},
   "outputs": [],
   "source": [
    "age = 19\n",
    "name = 'Andry'"
   ]
  },
  {
   "cell_type": "code",
   "execution_count": 2,
   "id": "34bcbb05-4bdb-45c2-ba87-d75003b325e7",
   "metadata": {},
   "outputs": [],
   "source": [
    "user_info = ['Andry', 'Ivanenko', 100.5, 2]"
   ]
  },
  {
   "cell_type": "code",
   "execution_count": 3,
   "id": "f955b133-99c3-425d-be00-6046bbfd7826",
   "metadata": {},
   "outputs": [],
   "source": [
    "salaries = [10,20,30,40,50]"
   ]
  },
  {
   "cell_type": "code",
   "execution_count": 4,
   "id": "15759a0d-1b5c-4024-999e-f38357d4cd6a",
   "metadata": {},
   "outputs": [],
   "source": [
    "first = salaries[0]"
   ]
  },
  {
   "cell_type": "code",
   "execution_count": 5,
   "id": "3fed0b09-bdd4-4eb1-9757-4eea47baae6d",
   "metadata": {},
   "outputs": [
    {
     "data": {
      "text/plain": [
       "10"
      ]
     },
     "execution_count": 5,
     "metadata": {},
     "output_type": "execute_result"
    }
   ],
   "source": [
    "first"
   ]
  },
  {
   "cell_type": "code",
   "execution_count": 6,
   "id": "132e68c9-c70b-468f-b7cf-0aab6c5fe4aa",
   "metadata": {},
   "outputs": [],
   "source": [
    "users = ['Andry', 'Ivanenko', 100.5, 2]"
   ]
  },
  {
   "cell_type": "code",
   "execution_count": 7,
   "id": "366718ba-71d9-4474-bd68-ea21c9433a99",
   "metadata": {},
   "outputs": [],
   "source": [
    "users.append('Voronov')"
   ]
  },
  {
   "cell_type": "code",
   "execution_count": 9,
   "id": "522f85f8-7666-4ad0-bb8c-b033c12d52a2",
   "metadata": {},
   "outputs": [],
   "source": [
    "users.append(42)"
   ]
  },
  {
   "cell_type": "code",
   "execution_count": 12,
   "id": "7b0dbcaa-286b-4bd6-9c02-63c95c957907",
   "metadata": {},
   "outputs": [],
   "source": [
    "del users[-2]"
   ]
  },
  {
   "cell_type": "code",
   "execution_count": 13,
   "id": "7b758921-0121-4924-90ac-951a88aadabf",
   "metadata": {},
   "outputs": [
    {
     "data": {
      "text/plain": [
       "['Andry', 'Ivanenko', 100.5, 2, 'Voronov', 42]"
      ]
     },
     "execution_count": 13,
     "metadata": {},
     "output_type": "execute_result"
    }
   ],
   "source": [
    "users"
   ]
  },
  {
   "cell_type": "code",
   "execution_count": 14,
   "id": "888d363d-b705-494f-a1f9-2a3a424a5044",
   "metadata": {},
   "outputs": [],
   "source": [
    "user_ages = [10, 18, 21, 35, 42, 27, 12, 16]"
   ]
  },
  {
   "cell_type": "code",
   "execution_count": 17,
   "id": "39788729-e9a9-452e-a245-804b3b4cab5a",
   "metadata": {},
   "outputs": [
    {
     "data": {
      "text/plain": [
       "[21, 35, 42, 27]"
      ]
     },
     "execution_count": 17,
     "metadata": {},
     "output_type": "execute_result"
    }
   ],
   "source": [
    "filtred_user_ages = []\n",
    "for age in user_ages:\n",
    "    if age > 18:\n",
    "        filtred_user_ages.append(age)\n",
    "filtred_user_ages"
   ]
  },
  {
   "cell_type": "code",
   "execution_count": 52,
   "id": "d8679f41-fa94-4173-8130-1226ce0cbea0",
   "metadata": {},
   "outputs": [],
   "source": [
    "worker = ['Ivan', 'Ivanenko', 100.5, 10]"
   ]
  },
  {
   "cell_type": "code",
   "execution_count": 53,
   "id": "44595eed-ce95-4046-aedb-da8fec0ee634",
   "metadata": {},
   "outputs": [
    {
     "name": "stdout",
     "output_type": "stream",
     "text": [
      "Ivan Ivanenko is senior\n"
     ]
    }
   ],
   "source": [
    "if worker[-1] < 2:\n",
    "    print(f'{worker[0]} {worker[1]} is junior')\n",
    "    \n",
    "if 5 > worker[-1] >= 2:\n",
    "    print(f'{worker[0]} {worker[1]} is middle')\n",
    "    \n",
    "if worker[-1] > 5:\n",
    "    print(f'{worker[0]} {worker[1]} is senior')"
   ]
  },
  {
   "cell_type": "code",
   "execution_count": 54,
   "id": "b4f9dc36-94ad-4226-bbe9-158dee6fccff",
   "metadata": {},
   "outputs": [
    {
     "data": {
      "text/plain": [
       "[10, 100, 20, 50, 160, 210]"
      ]
     },
     "execution_count": 54,
     "metadata": {},
     "output_type": "execute_result"
    }
   ],
   "source": [
    "values = [12, 134, 10, 47, 100, 20, 50, 160, 210]\n",
    "\n",
    "tens=[]\n",
    "for num in values:\n",
    "    if num%10==0:\n",
    "       tens.append(num)\n",
    "tens"
   ]
  },
  {
   "cell_type": "code",
   "execution_count": 62,
   "id": "571f1548-a604-4558-8f23-4b60e9fafcd7",
   "metadata": {},
   "outputs": [],
   "source": [
    "workers = [['Ivan', 'Ivanov', 100000, 1], ['Petr', 'Petrov', 150000, 10], ['Sidor', 'Sidorov', 200000, 3]]"
   ]
  },
  {
   "cell_type": "code",
   "execution_count": 63,
   "id": "c1021083-46a8-4565-b83a-e610d02b994c",
   "metadata": {},
   "outputs": [
    {
     "name": "stdout",
     "output_type": "stream",
     "text": [
      "Ivan Ivanov is junior\n",
      "Petr Petrov is senior\n",
      "Sidor Sidorov is middle\n"
     ]
    }
   ],
   "source": [
    "for worker in workers:\n",
    "    if worker[-1] < 2:\n",
    "        x='junior'\n",
    "    if 5 > worker[-1] >= 2:\n",
    "        x='middle'\n",
    "    if worker[-1] > 5:\n",
    "        x='senior'\n",
    "    print(f'{worker[0]} {worker[1]} is {x}')"
   ]
  },
  {
   "cell_type": "code",
   "execution_count": null,
   "id": "45b09ab9-1285-4d8f-9f38-6ccdb88e2b35",
   "metadata": {},
   "outputs": [],
   "source": []
  },
  {
   "cell_type": "code",
   "execution_count": null,
   "id": "51e76ea2-0133-4494-b410-9cce7f550b2d",
   "metadata": {},
   "outputs": [],
   "source": []
  },
  {
   "cell_type": "code",
   "execution_count": null,
   "id": "9f9901ab-8314-47ee-9520-894c47a51a3f",
   "metadata": {},
   "outputs": [],
   "source": []
  },
  {
   "cell_type": "code",
   "execution_count": null,
   "id": "3115dc54-de0f-47c2-9b67-27d406bf8f35",
   "metadata": {},
   "outputs": [],
   "source": []
  }
 ],
 "metadata": {
  "kernelspec": {
   "display_name": "Python 3 (ipykernel)",
   "language": "python",
   "name": "python3"
  },
  "language_info": {
   "codemirror_mode": {
    "name": "ipython",
    "version": 3
   },
   "file_extension": ".py",
   "mimetype": "text/x-python",
   "name": "python",
   "nbconvert_exporter": "python",
   "pygments_lexer": "ipython3",
   "version": "3.9.13"
  }
 },
 "nbformat": 4,
 "nbformat_minor": 5
}
